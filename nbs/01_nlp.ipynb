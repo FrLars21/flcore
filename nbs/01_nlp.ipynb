{
 "cells": [
  {
   "cell_type": "code",
   "execution_count": null,
   "id": "121d13e9",
   "metadata": {},
   "outputs": [],
   "source": [
    "#| default_exp nlp"
   ]
  },
  {
   "cell_type": "markdown",
   "id": "388d385a",
   "metadata": {},
   "source": [
    "# nlp\n",
    "\n",
    "> Utility functions for nlp work."
   ]
  },
  {
   "cell_type": "markdown",
   "id": "5e766482",
   "metadata": {},
   "source": [
    "## token annotation widget"
   ]
  },
  {
   "cell_type": "code",
   "execution_count": null,
   "id": "5e09100f",
   "metadata": {},
   "outputs": [],
   "source": [
    "#| export\n",
    "import anywidget\n",
    "import traitlets"
   ]
  },
  {
   "cell_type": "code",
   "execution_count": null,
   "id": "21340192",
   "metadata": {},
   "outputs": [],
   "source": [
    "#| export\n",
    "class TokenAnnotator(anywidget.AnyWidget):\n",
    "    _esm = \"\"\"\n",
    "    function render({ model, el }) {\n",
    "    \n",
    "        // Setup reactive state getters\n",
    "        let getText = () => model.get('text');\n",
    "        let getAnnotations = () => model.get('annotations');\n",
    "        let getlabels = () => model.get('labels');\n",
    "        \n",
    "        // Create control panel\n",
    "        const controls = document.createElement('div');\n",
    "        controls.className = \"annotation-labels\"\n",
    "        \n",
    "        // Create radio buttons from labels\n",
    "        getlabels().forEach(cls => {\n",
    "            const label = document.createElement('label');\n",
    "            const input = document.createElement('input');\n",
    "            input.type = 'radio';\n",
    "            input.name = 'class';\n",
    "            input.value = cls;\n",
    "            if (cls === getlabels()[0]) input.checked = true;\n",
    "            label.appendChild(input);\n",
    "            label.appendChild(document.createTextNode(' ' + cls));\n",
    "            controls.appendChild(label);\n",
    "            controls.appendChild(document.createTextNode(' '));\n",
    "        });\n",
    "        el.appendChild(controls);\n",
    "        \n",
    "        function preprocessText(text) {\n",
    "            return text\n",
    "                .replace(/^(# .+\\\\n?)/gm, '<h1>$1</h1>')\n",
    "                .replace(/^(## .+\\\\n?)/gm, '<h2>$1</h2>')\n",
    "                .replace(/^(### .+\\\\n?)/gm, '<h3>$1</h3>')\n",
    "        }\n",
    "        \n",
    "        // Create content div\n",
    "        const textDiv = document.createElement('div');\n",
    "        \n",
    "        //textDiv.textContent = getText();\n",
    "        textDiv.innerHTML = preprocessText(getText());\n",
    "        \n",
    "        textDiv.className = \"annotation-container\";\n",
    "        el.appendChild(textDiv);\n",
    "        \n",
    "        // Setup annotation tracking\n",
    "        const originalText = getText();\n",
    "        const colors = ['#ffd1dc', '#90EE90', '#87CEEB', '#FFB347', '#C8A2C8', '#FFE4B5'];\n",
    "        let colorIndex = 0;\n",
    "        const classColors = new Map();\n",
    "        \n",
    "        function getColorForClass(className) {\n",
    "            if (!classColors.has(className)) {\n",
    "                classColors.set(className, colors[colorIndex++ % colors.length]);\n",
    "            }\n",
    "            return classColors.get(className);\n",
    "        }\n",
    "        \n",
    "        function getOriginalTextPosition(node, offset) {\n",
    "            let currentPos = 0;\n",
    "            const walker = document.createTreeWalker(textDiv, NodeFilter.SHOW_TEXT, null, false);\n",
    "            \n",
    "            let currentNode = walker.nextNode();\n",
    "            while (currentNode) {\n",
    "                if (currentNode === node) {\n",
    "                    return currentPos + offset;\n",
    "                }\n",
    "                currentPos += currentNode.textContent.length;\n",
    "                currentNode = walker.nextNode();\n",
    "            }\n",
    "            return offset;\n",
    "        }\n",
    "        \n",
    "        function unwrapMark(mark) {\n",
    "            const startPos = getOriginalTextPosition(mark.firstChild, 0);\n",
    "            const annotations = getAnnotations().filter(a => a.start !== startPos);\n",
    "            mark.replaceWith(...mark.childNodes);\n",
    "            model.set('annotations', annotations);\n",
    "            model.save_changes();\n",
    "        }\n",
    "        \n",
    "        function findNodeAndOffsetAtPosition(container, targetPosition) {\n",
    "            let currentPos = 0;\n",
    "            const walker = document.createTreeWalker(container, NodeFilter.SHOW_TEXT, null, false);\n",
    "\n",
    "            let lastNode = null;\n",
    "            let node = walker.nextNode();\n",
    "\n",
    "            while (node) {\n",
    "                const nodeLength = node.textContent.length;\n",
    "                if (currentPos + nodeLength >= targetPosition) {  // Changed > to >=\n",
    "                    return {\n",
    "                        node: node,\n",
    "                        offset: targetPosition - currentPos\n",
    "                    };\n",
    "                }\n",
    "                currentPos += nodeLength;\n",
    "                lastNode = node;\n",
    "                node = walker.nextNode();\n",
    "            }\n",
    "\n",
    "            // Handle the end-of-text case\n",
    "            if (lastNode && targetPosition === currentPos) {\n",
    "                return {\n",
    "                    node: lastNode,\n",
    "                    offset: lastNode.textContent.length\n",
    "                };\n",
    "            }\n",
    "\n",
    "            return null;\n",
    "        }\n",
    "        // Then use it for initial annotations\n",
    "        getAnnotations().forEach(annotation => {\n",
    "            const startLoc = findNodeAndOffsetAtPosition(textDiv, annotation.start);\n",
    "            const endLoc = findNodeAndOffsetAtPosition(textDiv, annotation.end);\n",
    "\n",
    "            if (startLoc && endLoc) {\n",
    "                const range = document.createRange();\n",
    "                range.setStart(startLoc.node, startLoc.offset);\n",
    "                range.setEnd(endLoc.node, endLoc.offset);\n",
    "\n",
    "                const markElement = document.createElement('mark');\n",
    "                markElement.style.backgroundColor = getColorForClass(annotation.class);\n",
    "                markElement.title = `${annotation.class}`;\n",
    "\n",
    "                markElement.addEventListener('click', e => {\n",
    "                    e.preventDefault();\n",
    "                    unwrapMark(markElement);\n",
    "                });\n",
    "\n",
    "                try {\n",
    "                    range.surroundContents(markElement);\n",
    "                } catch (e) {\n",
    "                    console.error('Cannot wrap initial annotation that crosses multiple nodes', e);\n",
    "                }\n",
    "            }\n",
    "        });\n",
    "        \n",
    "        textDiv.addEventListener('mouseup', () => {\n",
    "            const selection = window.getSelection();\n",
    "            \n",
    "            if (selection.toString().trim().length > 0) {\n",
    "                const range = selection.getRangeAt(0);\n",
    "                const selectedClass = document.querySelector('input[name=\"class\"]:checked').value;\n",
    "                const markElement = document.createElement('mark');\n",
    "                markElement.style.backgroundColor = getColorForClass(selectedClass);\n",
    "                markElement.title = `${selectedClass}`;\n",
    "                \n",
    "                markElement.addEventListener('click', e => { \n",
    "                    e.preventDefault(); \n",
    "                    unwrapMark(markElement); \n",
    "                });\n",
    "                \n",
    "                try {\n",
    "                    const startPos = getOriginalTextPosition(range.startContainer, range.startOffset);\n",
    "                    const endPos = getOriginalTextPosition(range.endContainer, range.endOffset);\n",
    "                    \n",
    "                    const annotations = [...getAnnotations(), {\n",
    "                        start: startPos,\n",
    "                        end: endPos,\n",
    "                        text: selection.toString(),\n",
    "                        class: selectedClass\n",
    "                    }];\n",
    "                    \n",
    "                    range.surroundContents(markElement);\n",
    "                    selection.removeAllRanges();\n",
    "                    \n",
    "                    model.set('annotations', annotations);\n",
    "                    model.save_changes();\n",
    "                } catch (e) {\n",
    "                    console.error('Cannot wrap selection that crosses multiple nodes', e);\n",
    "                }\n",
    "            }\n",
    "        });\n",
    "    }\n",
    "    export default { render };\n",
    "    \"\"\"\n",
    "\n",
    "    _css = \"\"\"\n",
    "    .annotation-container {\n",
    "        padding: 20px;\n",
    "        border: 1px solid #ccc;\n",
    "        margin: 8px;\n",
    "        white-space: pre-wrap;\n",
    "        line-height: 1.6;\n",
    "\n",
    "        /* Subtle lined paper effect using background-image */\n",
    "        background-image: linear-gradient(transparent 1.5em, #f0f0f0 1.5em);\n",
    "        background-size: 100% 1.6em;\n",
    "        padding: 0.1em 1em;\n",
    "    }\n",
    "    \n",
    "    .annotation-labels {\n",
    "      display: flex;\n",
    "      margin: 4px;\n",
    "      gap: 1rem;\n",
    "    }\n",
    "    \n",
    "    .annotation-labels label {\n",
    "      display: flex;\n",
    "      align-items: center;\n",
    "      gap: 0.5rem; /* Space between radio button and label text */\n",
    "      padding: 0.5rem 1rem;\n",
    "      border: 1px solid #ccc;\n",
    "      border-radius: 0.5rem;\n",
    "      background: #f9f9f9;\n",
    "      cursor: pointer;\n",
    "    }\n",
    "    \n",
    "    mark {\n",
    "        padding: 2px;\n",
    "        border-radius: 2px;\n",
    "        cursor: pointer;\n",
    "    }\n",
    "    \n",
    "    mark:hover {\n",
    "        filter: brightness(0.9);\n",
    "    }\n",
    "    \n",
    "    /* Add to your _css string */\n",
    "    h1, h2, h3 {\n",
    "        /* Remove default heading margins since we're keeping newlines */\n",
    "        margin: 0;\n",
    "        font-weight: bold;\n",
    "    }\n",
    "\n",
    "    /* Different sizes for different heading levels */\n",
    "    h1 { font-size: 1.8em; }\n",
    "    h2 { font-size: 1.5em; }\n",
    "    h3 { font-size: 1.3em; }\n",
    "    \"\"\"\n",
    "\n",
    "    # Traitlets for syncing state\n",
    "    text = traitlets.Unicode().tag(sync=True)\n",
    "    annotations = traitlets.List([]).tag(sync=True)\n",
    "    labels = traitlets.List([]).tag(sync=True)"
   ]
  },
  {
   "cell_type": "markdown",
   "id": "5fdad9e6",
   "metadata": {},
   "source": [
    "Small example including some pre-computed annotation."
   ]
  },
  {
   "cell_type": "code",
   "execution_count": null,
   "id": "080aa292",
   "metadata": {},
   "outputs": [
    {
     "data": {
      "application/vnd.jupyter.widget-view+json": {
       "model_id": "8de0413c401148d692cdec4dd7302ee7",
       "version_major": 2,
       "version_minor": 1
      },
      "text/plain": [
       "TokenAnnotator(annotations=[{'start': 19, 'end': 28, 'class': 'organization'}], labels=['person', 'location', …"
      ]
     },
     "execution_count": null,
     "metadata": {},
     "output_type": "execute_result"
    }
   ],
   "source": [
    "a = TokenAnnotator(text='John Smith visited Microsoft in Seattle last week.', \n",
    "               labels=['person', 'location', 'organization'],\n",
    "               annotations=[{'start': 19, 'end': 28, 'class': 'organization'}])\n",
    "a"
   ]
  },
  {
   "cell_type": "markdown",
   "id": "7fb12668",
   "metadata": {},
   "source": [
    "We can access the annotations from Python!"
   ]
  },
  {
   "cell_type": "code",
   "execution_count": null,
   "id": "bbb17f06",
   "metadata": {},
   "outputs": [
    {
     "data": {
      "text/plain": [
       "[{'start': 19, 'end': 28, 'class': 'organization'}]"
      ]
     },
     "execution_count": null,
     "metadata": {},
     "output_type": "execute_result"
    }
   ],
   "source": [
    "a.annotations"
   ]
  },
  {
   "cell_type": "markdown",
   "id": "15f7f657",
   "metadata": {},
   "source": [
    ".. it also works ok for longer documents:"
   ]
  },
  {
   "cell_type": "code",
   "execution_count": null,
   "id": "cd8287be",
   "metadata": {},
   "outputs": [
    {
     "data": {
      "application/vnd.jupyter.widget-view+json": {
       "model_id": "2ba71f8d4f55430db1caf80479b04e97",
       "version_major": 2,
       "version_minor": 1
      },
      "text/plain": [
       "TokenAnnotator(annotations=[{'start': 2316, 'end': 2340, 'class': 'person'}], labels=['person', 'organization'…"
      ]
     },
     "execution_count": null,
     "metadata": {},
     "output_type": "execute_result"
    }
   ],
   "source": [
    "x = '# Punkt 9: Kontrakt med Erhvervshus Nord 2024-2026\\n\\n### EMN-2023-01106\\n## Bilag\\n\\n### Udkast - Operatøraftale om erhvervsudvikling i 2024-2026\\n\\n\\n-----\\n\\n### 9 (Åben) Kontrakt med Erhvervshus Nord 2024-2026\\n\\n**Sags ID: EMN-2023-01106**\\n\\n**Ansvarligt center: Direktionssekretariat**\\n\\n**Beslutningskompetence**\\nØU/BR\\n\\n**Sagsfremstilling**\\nDer er udarbejdet en 3 årig aftale, der løber fra 1. januar 2024 – 31. december 2026.\\n\\nDette sker ved at arbejde målrettet gennem:\\n\\n  - erhvervsservice over for virksomhederne i Frederikshavn Kommune.\\n\\n  - erhvervsudvikling hvor Erhvervshus Nord gennemfører en aktiv\\nerhvervsudviklingsindsats over for de enkelte virksomheder med\\n\\nunderstøtning af kommunens strategier, politikker og konkrete indsatser\\nherunder Recycling City og den grønne omstilling.\\n\\n  - erhvervsstrukturudvikling, hvor Erhvervshus Nord arbejder Strategisk med den\\nlangsigtede erhvervsstrukturudvikling i Frederikshavn Kommune, gennem\\n\\nløbende dialog med kommunen samt konkrete indsatser for at tiltrække\\nvirksomheder og investeringer med stor positiv erhvervsøkonomisk afsmitning i\\nlokalsamfundet.\\n\\n  - inddragelse og samarbejder med øvrige erhvervsfremmeaktører.\\n\\nFor løsning af erhvervsserviceopgaverne betales en ydelse på 4.400.000 kr. inkl. moms,\\nbeløbet pristalsreguleres med virkning fra 2025. Betalingen sker i 2 årlige rater med\\nførste halvdel ved årets begyndelse og anden halvdel pr. 1. juli, svarende til 2.200.000 kr.\\npr. rate. Der reserveres desuden et årligt kommunalt beløb på 500.000 kr. til eventuelle\\nsærlige indsatser. Beløb op til 500.000 kr. udbetales, hvis der i forlængelse af de årlige\\nmøder aftales specielle indsatser med Økonomiudvalget.\\n\\nErhvervshus Nord ønsker, at der i aftalen indgår, at basisaftalen og aftalen om særlige\\nindsatser pristalsreguleres i 2024, 2025 og 2026.\\n\\n**Indstilling**\\nDirektionssekretariatet indstiller, at\\n1. aftale for 2024-2026 mellem kommunen og Frederikshavn Erhvervsråd\\ngodkendes\\n2. basisaftalen pristalsreguleres med virkning fra 2024\\n3. det eventuelle beløb til særlig indsatser ikke pristalsreguleres.\\n\\n**Tidligere beslutninger:**\\n\\n\\n-----\\n\\nUdvalg: Økonomiudvalget 2022-2025\\n\\nDato: 26-04-2023\\n\\nAnbefales med den bemærkning, at der betales en ydelse på 4.400.000 kr. ekskl. moms.\\n\\n**Beslutninger:**\\n\\nØkonomiudvalgets indstilling godkendt.\\n\\nAfbud fra Martin Tøttrup Kelkelund (A). I stedet deltog Marie Gade Madsen (A).\\nAfbud fra Almina Nikontovic (A). I stedet deltog Bent Hieronymus Pedersen (A).\\n\\n**Bilag**\\n\\n1. Udkast - Operatøraftale om erhvervsudvikling i 2024-2026 (DokumentID: 7146136 - EMN-2023-01106)\\n\\n\\n-----\\n\\n'\n",
    "a2 = TokenAnnotator(text = x, labels=['person', 'organization', 'date'], annotations=[{'start': 2316, 'end': 2340, 'class': 'person'}])\n",
    "a2"
   ]
  },
  {
   "cell_type": "code",
   "execution_count": null,
   "id": "262c68cf",
   "metadata": {},
   "outputs": [
    {
     "data": {
      "text/plain": [
       "[{'start': 2316, 'end': 2340, 'class': 'person'}]"
      ]
     },
     "execution_count": null,
     "metadata": {},
     "output_type": "execute_result"
    }
   ],
   "source": [
    "a2.annotations"
   ]
  },
  {
   "cell_type": "markdown",
   "id": "a2527d13",
   "metadata": {},
   "source": [
    "### Weak Labelling with RegEx Patterns"
   ]
  },
  {
   "cell_type": "code",
   "execution_count": null,
   "id": "da8f9f31",
   "metadata": {},
   "outputs": [],
   "source": [
    "#| export\n",
    "import re\n",
    "from typing import List, Dict, Any"
   ]
  },
  {
   "cell_type": "code",
   "execution_count": null,
   "id": "39717353",
   "metadata": {},
   "outputs": [],
   "source": [
    "#| export\n",
    "def annotate(text: str, patterns: Dict[str, str]) -> Dict[str, Any]:\n",
    "    \"\"\"\n",
    "    Annotate text with multiple patterns. If a pattern contains capture groups,\n",
    "    uses the first capture group; otherwise uses the full match.\n",
    "    \n",
    "    Example:\n",
    "        annotate(\"Hi there, John Doe!\", {\n",
    "            \"greeting\": r'Hi|Hello'\n",
    "        })\n",
    "    \"\"\"\n",
    "    annotations = []\n",
    "    for cls, pattern in patterns.items():\n",
    "        \n",
    "        for m in re.finditer(pattern, text, re.UNICODE):\n",
    "            start = m.start()\n",
    "            end = m.end()\n",
    "            \n",
    "            \"\"\"\n",
    "            # If there's a capture group, use its positions\n",
    "            if m.groups():\n",
    "                start = m.start(1)  # position of first capture group\n",
    "                end = m.end(1)\n",
    "            else:\n",
    "                start = m.start()   # position of full match\n",
    "                end = m.end()\n",
    "            \"\"\"\n",
    "            \n",
    "            annotations.append({\"class\": cls, \"start\": start, \"end\": end})\n",
    "    \n",
    "    return {\n",
    "        \"text\": text,\n",
    "        \"annotations\": sorted(annotations, key=lambda x: x['start'])\n",
    "    }"
   ]
  },
  {
   "cell_type": "code",
   "execution_count": null,
   "id": "c9de5c2d",
   "metadata": {},
   "outputs": [
    {
     "data": {
      "text/plain": [
       "{'text': 'Hi there, John Doe!',\n",
       " 'annotations': [{'class': 'greeting', 'start': 0, 'end': 2},\n",
       "  {'class': 'person', 'start': 10, 'end': 18}]}"
      ]
     },
     "execution_count": null,
     "metadata": {},
     "output_type": "execute_result"
    }
   ],
   "source": [
    "doc = annotate(\"Hi there, John Doe!\", {\n",
    "    \"person\": r'[A-Z][a-z]+(?:\\s+[A-Z][a-z]+)+',\n",
    "    \"greeting\": r'Hi|Hello'\n",
    "})\n",
    "doc"
   ]
  },
  {
   "cell_type": "markdown",
   "id": "1c2f70e5",
   "metadata": {},
   "source": [
    "We can pass this doc to the annotator class to visualize. \n",
    "\n",
    "Note: if we provide a list of labels to TokenAnnotator, we can also edit the weak annotations."
   ]
  },
  {
   "cell_type": "code",
   "execution_count": null,
   "id": "3690475f",
   "metadata": {},
   "outputs": [
    {
     "data": {
      "application/vnd.jupyter.widget-view+json": {
       "model_id": "ad5a90d3b2834bad9bf2281c38c102c2",
       "version_major": 2,
       "version_minor": 1
      },
      "text/plain": [
       "TokenAnnotator(annotations=[{'class': 'greeting', 'start': 0, 'end': 2}, {'class': 'person', 'start': 10, 'end…"
      ]
     },
     "execution_count": null,
     "metadata": {},
     "output_type": "execute_result"
    }
   ],
   "source": [
    "TokenAnnotator(**doc)"
   ]
  },
  {
   "cell_type": "markdown",
   "id": "65baca19",
   "metadata": {},
   "source": [
    "### Patterns"
   ]
  },
  {
   "cell_type": "markdown",
   "id": "c99ba061",
   "metadata": {},
   "source": [
    "A collection of common RegEx patterns that often come in handy. Useful for stuff like weak annotations."
   ]
  },
  {
   "cell_type": "markdown",
   "id": "8d4acda1",
   "metadata": {},
   "source": [
    "Let's start with a pattern to match names"
   ]
  },
  {
   "cell_type": "code",
   "execution_count": null,
   "id": "78e0ad4a",
   "metadata": {},
   "outputs": [],
   "source": [
    "#| export\n",
    "\n",
    "# First, let's handle names that can start with an apostrophe\n",
    "base_start = r'[A-Z\\u00C0-\\u017F](?:\\'[A-Z\\u00C0-\\u017F])?'  # Allows N' at start\n",
    "base_rest = r'[a-z\\u00C0-\\u017F]+'\n",
    "\n",
    "# Complete base name part with special characters\n",
    "name_part = f'{base_start}{base_rest}(?:[-][A-Z\\u00C0-\\u017F][a-z\\u00C0-\\u017F]+)*'\n",
    "\n",
    "# Particles (van, der, etc.)\n",
    "particles = r'(?:\\s+(?:van|der|de|den|von|und|le|la|di|el|al|bin|ibn|mac|mc|dos|das|do|da|of|af|av))*'\n",
    "\n",
    "# Final pattern requiring at least two parts for a full name\n",
    "re_person = fr'({name_part}(?:{particles}\\s+{name_part})+)'"
   ]
  },
  {
   "cell_type": "markdown",
   "id": "853d92db",
   "metadata": {},
   "source": [
    "Got Sonnet to give some examples of people names to test :)"
   ]
  },
  {
   "cell_type": "code",
   "execution_count": null,
   "id": "af731426",
   "metadata": {},
   "outputs": [
    {
     "data": {
      "application/vnd.jupyter.widget-view+json": {
       "model_id": "c0f3c6cfb9e847ed99ab5910e552dbfb",
       "version_major": 2,
       "version_minor": 1
      },
      "text/plain": [
       "TokenAnnotator(annotations=[{'class': 'person', 'start': 22, 'end': 40}, {'class': 'person', 'start': 42, 'end…"
      ]
     },
     "execution_count": null,
     "metadata": {},
     "output_type": "execute_result"
    }
   ],
   "source": [
    "text = \"Here are some people: Jean-Paul O'Connor, María-José García, Søren Kierkegaard, N'Golo Kanté, Smith-Jones, and François van der Meer\"\n",
    "TokenAnnotator(**annotate(text, {'person': re_person}))"
   ]
  },
  {
   "cell_type": "markdown",
   "id": "13410642",
   "metadata": {},
   "source": [
    "Email pattern"
   ]
  },
  {
   "cell_type": "code",
   "execution_count": null,
   "id": "91516f80",
   "metadata": {},
   "outputs": [],
   "source": [
    "# todo: email pattern"
   ]
  },
  {
   "cell_type": "markdown",
   "id": "7295c93d",
   "metadata": {},
   "source": [
    "URL pattern"
   ]
  },
  {
   "cell_type": "code",
   "execution_count": null,
   "id": "cb929232",
   "metadata": {},
   "outputs": [],
   "source": [
    "# todo"
   ]
  },
  {
   "cell_type": "markdown",
   "id": "8cf65aa6",
   "metadata": {},
   "source": [
    "### export"
   ]
  },
  {
   "cell_type": "code",
   "execution_count": null,
   "id": "7ca13733",
   "metadata": {},
   "outputs": [],
   "source": [
    "#| hide\n",
    "import nbdev; nbdev.nbdev_export()"
   ]
  }
 ],
 "metadata": {
  "kernelspec": {
   "display_name": "python3",
   "language": "python",
   "name": "python3"
  }
 },
 "nbformat": 4,
 "nbformat_minor": 5
}
